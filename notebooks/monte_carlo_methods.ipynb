{
  "cells": [
    {
      "cell_type": "markdown",
      "metadata": {
        "colab_type": "text",
        "id": "view-in-github"
      },
      "source": [
        "# Monte Carlo Methods in Reinforcement Learning\n",
        "\n",
        "This notebook demonstrates Monte Carlo methods for reinforcement learning, which learn value functions and optimal policies from experience through sampling.\n",
        "\n",
        "## Learning Objectives\n",
        "By the end of this notebook, you will understand:\n",
        "- How Monte Carlo methods learn from complete episodes\n",
        "- The difference between first-visit and every-visit Monte Carlo\n",
        "- How to implement Monte Carlo control algorithms\n",
        "- The exploration vs exploitation trade-off in Monte Carlo methods\n",
        "- Why Monte Carlo methods work well for episodic tasks\n",
        "\n",
        "## Key Concepts\n",
        "- **Monte Carlo Prediction**: Learning value functions from sample returns\n",
        "- **Monte Carlo Control**: Learning optimal policies through exploration\n",
        "- **Exploration Strategies**: Epsilon-greedy and other exploration methods\n",
        "- **Episode-based Learning**: Learning from complete sequences of experience\n",
        "\n",
        "---\n",
        "\n",
        "<a href=\"https://colab.research.google.com/github/xhxuciedu/CS175/blob/master/notebooks/monte_carlo_methods.ipynb\" target=\"_parent\"><img src=\"https://colab.research.google.com/assets/colab-badge.svg\" alt=\"Open In Colab\"/></a>"
      ]
    },
    {
      "cell_type": "markdown",
      "metadata": {
        "id": "_TZefME0MTvA"
      },
      "source": [
        "## Setup and Installation\n",
        "\n",
        "**Note:** This notebook does not require a GPU, so make sure the runtime type is set to CPU to lower your Colab usage."
      ]
    },
    {
      "cell_type": "code",
      "execution_count": null,
      "metadata": {
        "id": "mRfY2Q0n4Ml2"
      },
      "outputs": [],
      "source": [
        "%%capture\n",
        "!pip install 'gymnasium[box2d]'\n",
        "# !pip install matplotlib numpy"
      ]
    },
    {
      "cell_type": "code",
      "execution_count": null,
      "metadata": {
        "id": "scCHk8TKrA-D"
      },
      "outputs": [],
      "source": [
        "# imports\n",
        "import gymnasium as gym\n",
        "import time\n",
        "import numpy as np\n",
        "import matplotlib.pyplot as plt\n",
        "import matplotlib.font_manager\n",
        "import warnings\n",
        "warnings.filterwarnings('ignore')"
      ]
    },
    {
      "cell_type": "code",
      "execution_count": null,
      "metadata": {
        "colab": {
          "base_uri": "https://localhost:8080/"
        },
        "id": "2tMCdMu-RehW",
        "outputId": "0c2e1a35-3342-4c93-d32c-cd27f005fac8"
      },
      "outputs": [
        {
          "data": {
            "text/plain": [
              "[742]"
            ]
          },
          "execution_count": 4,
          "metadata": {},
          "output_type": "execute_result"
        }
      ],
      "source": [
        "# actions\n",
        "LEFT, DOWN, RIGHT, UP = 0,1,2,3\n",
        "\n",
        "# import the frozen lake gymnasium environment\n",
        "name = 'FrozenLake-v1'\n",
        "env = gym.make(name, is_slippery=False) # warning: setting slippery=True results in very complex environment dynamics where the optimal solution does not make sense to humans!\n",
        "\n",
        "# Set up environment with proper seeding\n",
        "observation, info = env.reset(seed=742)\n",
        "env.action_space.seed(742)\n",
        "\n",
        "# Add nS and nA attributes for compatibility with dynamic programming algorithms\n",
        "env.nS = env.observation_space.n\n",
        "env.nA = env.action_space.n"
      ]
    },
    {
      "cell_type": "code",
      "execution_count": null,
      "metadata": {
        "id": "99LTmNVAtWO-"
      },
      "outputs": [],
      "source": [
        "# helper function to draw the frozen lake\n",
        "def plot(V,policy,col_ramp=1,dpi=175,draw_vals=False):\n",
        "    plt.rcParams['figure.dpi'] = dpi\n",
        "    plt.rcParams.update({'axes.edgecolor': (0.32,0.36,0.38)})\n",
        "    plt.rcParams.update({'font.size': 4 if env.env.nrow == 8 else 7})\n",
        "    plt.figure(figsize=(3,3))\n",
        "    plt.imshow(1-V.reshape(env.env.nrow,env.env.ncol)**col_ramp, cmap='gray', interpolation='none', clim=(0,1))\n",
        "    ax = plt.gca()\n",
        "    ax.set_xticks(np.arange(env.env.ncol)-.5)\n",
        "    ax.set_yticks(np.arange(env.env.nrow)-.5)\n",
        "    ax.set_xticklabels([])\n",
        "    ax.set_yticklabels([])\n",
        "    for s in range(env.nS):\n",
        "        x = s%env.env.nrow\n",
        "        y = int(s/env.env.ncol)\n",
        "        a = policy[s]\n",
        "        gray = np.array((0.32,0.36,0.38))\n",
        "        if env.desc.tolist()[y][x] == b'G':\n",
        "            plt.text(x-0.45,y-0.3, 'goal', color=(0.75,0.22,0.17), fontname='Sans', weight='bold')\n",
        "            continue\n",
        "        if a[0] > 0.0: plt.arrow(x, y, float(a[0])*-.84, 0.0, color=gray+0.2*(1-V[s]), head_width=0.1, head_length=0.1) # left\n",
        "        if a[1] > 0.0: plt.arrow(x, y, 0.0, float(a[1])*.84,  color=gray+0.2*(1-V[s]), head_width=0.1, head_length=0.1) # down\n",
        "        if a[2] > 0.0: plt.arrow(x, y, float(a[2])*.84, 0.0,  color=gray+0.2*(1-V[s]), head_width=0.1, head_length=0.1) # right\n",
        "        if a[3] > 0.0: plt.arrow(x, y, 0.0, float(a[3])*-.84, color=gray+0.2*(1-V[s]), head_width=0.1, head_length=0.1) # up\n",
        "        if env.desc.tolist()[y][x] == b'F': plt.text(x-0.45,y-0.3, 'ice', color=(gray*V[s]), fontname='Sans')\n",
        "        if env.desc.tolist()[y][x] == b'S': plt.text(x-0.45,y-0.3, 'start',color=(0.21,0.51,0.48), fontname='Sans', weight='bold')\n",
        "        if draw_vals and V[s]>0:\n",
        "            vstr = '{0:.1e}'.format(V[s]) if env.env.nrow == 8 else '{0:.6f}'.format(V[s])\n",
        "            plt.text(x-0.45,y+0.45, vstr, color=(gray*V[s]), fontname='Sans')\n",
        "    plt.grid(color=(0.42,0.46,0.48), linestyle=':')\n",
        "    ax.set_axisbelow(True)\n",
        "    ax.tick_params(color=(0.42,0.46,0.48),which='both',top='off',left='off',right='off',bottom='off')\n",
        "    plt.show()"
      ]
    },
    {
      "cell_type": "markdown",
      "metadata": {
        "id": "4tP4440lxBNz"
      },
      "source": [
        "## Understanding Monte Carlo Methods\n",
        "\n",
        "Monte Carlo methods learn from complete episodes of experience. Unlike dynamic programming, they don't require a model of the environment and can learn directly from interaction.\n",
        "\n",
        "### Key Characteristics:\n",
        "- **Model-free**: No need for transition probabilities\n",
        "- **Episode-based**: Learn from complete sequences\n",
        "- **Sample-based**: Use actual returns instead of expected returns\n",
        "- **Incremental**: Update estimates after each episode\n",
        "\n",
        "### The Monte Carlo Update Rule:\n",
        "$$V(S_t) \\leftarrow V(S_t) + \\alpha[G_t - V(S_t)]$$\n",
        "\n",
        "Where $G_t$ is the actual return from time $t$ to the end of the episode.\n",
        "\n",
        "## Q-Learning vs Monte Carlo\n",
        "\n",
        "Let's first see what happens with a naive Q-learning approach that doesn't explore properly."
      ]
    },
    {
      "cell_type": "code",
      "execution_count": null,
      "metadata": {
        "id": "TNQQrckXkveb"
      },
      "outputs": [],
      "source": [
        "def random_epsilon_greedy_policy(Q, epsilon, state, nA):\n",
        "    A = np.ones(nA, dtype=float) * epsilon / nA\n",
        "    best_action = np.argmax(Q[state])\n",
        "    A[best_action] += (1.0 - epsilon)\n",
        "    return A"
      ]
    },
    {
      "cell_type": "code",
      "execution_count": null,
      "metadata": {
        "colab": {
          "base_uri": "https://localhost:8080/"
        },
        "id": "MDE5dNM5xAhr",
        "outputId": "8511f03a-640a-47ff-af67-df36b292dfe6"
      },
      "outputs": [
        {
          "name": "stdout",
          "output_type": "stream",
          "text": [
            "success: 0.0, epsilon: 0.4\n",
            "success: 0.0, epsilon: 0.4\n",
            "success: 0.0, epsilon: 0.4\n",
            "success: 0.0, epsilon: 0.4\n",
            "success: 0.0, epsilon: 0.4\n",
            "success: 0.0, epsilon: 0.4\n",
            "success: 0.0, epsilon: 0.4\n",
            "success: 0.0, epsilon: 0.4\n",
            "success: 0.0, epsilon: 0.4\n",
            "success: 0.0, epsilon: 0.4\n"
          ]
        }
      ],
      "source": [
        "Q = np.zeros([env.observation_space.n, env.action_space.n])\n",
        "n_visits = np.zeros([env.observation_space.n, env.action_space.n])\n",
        "num_episodes = 5000\n",
        "epsilon = 0.4\n",
        "stats = 0.0\n",
        "\n",
        "for episode in range(num_episodes):\n",
        "    state, info = env.reset()\n",
        "    terminated = False\n",
        "    truncated = False\n",
        "    results_list = []\n",
        "    result_sum = 0.0\n",
        "    while not (terminated or truncated):\n",
        "        action = np.argmax(Q[state, :])\n",
        "        new_state, reward, terminated, truncated, _ = env.step(action)\n",
        "        results_list.append((state, action))\n",
        "        result_sum += reward\n",
        "        state = new_state\n",
        "\n",
        "    for (state, action) in results_list:\n",
        "        n_visits[state, action] += 1.0\n",
        "        alpha = 1.0 / n_visits[state, action]\n",
        "        Q[state, action] += alpha * (result_sum - Q[state, action])\n",
        "\n",
        "    stats += result_sum\n",
        "    if episode % 500 == 0 and episode is not 0:\n",
        "        print(f\"success: {stats/episode}, epsilon: {epsilon}\")\n",
        "\n",
        "print(f\"success: {stats/episode}, epsilon: {epsilon}\")\n",
        "\n",
        "env.close()"
      ]
    },
    {
      "cell_type": "markdown",
      "metadata": {
        "id": "WDFeFtvxxVRZ"
      },
      "source": [
        "... it get's stuck in a local minima (never explores)"
      ]
    },
    {
      "cell_type": "markdown",
      "metadata": {
        "id": "cbrlLdqdQuvV"
      },
      "source": [
        "**Monte carlo learning** $\\epsilon$-greedy exploration"
      ]
    },
    {
      "cell_type": "code",
      "execution_count": null,
      "metadata": {
        "colab": {
          "base_uri": "https://localhost:8080/"
        },
        "id": "ohSJzzgcx35k",
        "outputId": "0b0d12e5-59aa-4735-9910-4b7472d9a385"
      },
      "outputs": [
        {
          "name": "stdout",
          "output_type": "stream",
          "text": [
            "success: 0.0, epsilon: 0.4\n",
            "success: 0.0, epsilon: 0.4\n",
            "success: 0.0, epsilon: 0.4\n",
            "success: 0.0, epsilon: 0.4\n",
            "success: 0.0, epsilon: 0.4\n",
            "success: 0.0, epsilon: 0.4\n",
            "success: 0.04742857142857143, epsilon: 0.4\n",
            "success: 0.1065, epsilon: 0.4\n",
            "success: 0.15244444444444444, epsilon: 0.4\n",
            "success: 0.192, epsilon: 0.4\n",
            "success: 0.224, epsilon: 0.4\n",
            "success: 0.24766666666666667, epsilon: 0.4\n",
            "success: 0.272, epsilon: 0.4\n",
            "success: 0.29, epsilon: 0.4\n",
            "success: 0.30706666666666665, epsilon: 0.4\n",
            "success: 0.3185, epsilon: 0.4\n",
            "success: 0.33176470588235296, epsilon: 0.4\n",
            "success: 0.3427777777777778, epsilon: 0.4\n",
            "success: 0.35336842105263155, epsilon: 0.4\n",
            "success: 0.3622, epsilon: 0.4\n",
            "success: 0.3698095238095238, epsilon: 0.4\n",
            "success: 0.37781818181818183, epsilon: 0.4\n",
            "success: 0.3863478260869565, epsilon: 0.4\n",
            "success: 0.393, epsilon: 0.4\n",
            "success: 0.39776, epsilon: 0.4\n",
            "success: 0.40176923076923077, epsilon: 0.4\n",
            "success: 0.4071111111111111, epsilon: 0.4\n",
            "success: 0.4119285714285714, epsilon: 0.4\n",
            "success: 0.416551724137931, epsilon: 0.4\n",
            "success: 0.41986666666666667, epsilon: 0.4\n",
            "success: 0.42354838709677417, epsilon: 0.4\n",
            "success: 0.42625, epsilon: 0.4\n",
            "success: 0.4280606060606061, epsilon: 0.4\n",
            "success: 0.4314705882352941, epsilon: 0.4\n",
            "success: 0.4332, epsilon: 0.4\n",
            "success: 0.43444444444444447, epsilon: 0.4\n",
            "success: 0.4367027027027027, epsilon: 0.4\n",
            "success: 0.43905263157894736, epsilon: 0.4\n",
            "success: 0.4421538461538462, epsilon: 0.4\n",
            "success: 0.4443, epsilon: 0.4\n",
            "success: 0.4461951219512195, epsilon: 0.4\n",
            "success: 0.449, epsilon: 0.4\n",
            "success: 0.45102325581395347, epsilon: 0.4\n",
            "success: 0.45354545454545453, epsilon: 0.4\n",
            "success: 0.4555111111111111, epsilon: 0.4\n",
            "success: 0.4567826086956522, epsilon: 0.4\n",
            "success: 0.4591063829787234, epsilon: 0.4\n",
            "success: 0.46025, epsilon: 0.4\n",
            "success: 0.4614285714285714, epsilon: 0.4\n",
            "success: 0.46184, epsilon: 0.4\n",
            "success: 0.4633333333333333, epsilon: 0.4\n",
            "success: 0.4648846153846154, epsilon: 0.4\n",
            "success: 0.4659622641509434, epsilon: 0.4\n",
            "success: 0.46703703703703703, epsilon: 0.4\n",
            "success: 0.4681818181818182, epsilon: 0.4\n",
            "success: 0.46935714285714286, epsilon: 0.4\n",
            "success: 0.47035087719298246, epsilon: 0.4\n",
            "success: 0.47113793103448276, epsilon: 0.4\n",
            "success: 0.4719322033898305, epsilon: 0.4\n",
            "success: 0.4733, epsilon: 0.4\n",
            "success: 0.4740327868852459, epsilon: 0.4\n",
            "success: 0.4753225806451613, epsilon: 0.4\n",
            "success: 0.47615873015873017, epsilon: 0.4\n",
            "success: 0.4771875, epsilon: 0.4\n",
            "success: 0.4783076923076923, epsilon: 0.4\n",
            "success: 0.47903030303030303, epsilon: 0.4\n",
            "success: 0.4801791044776119, epsilon: 0.4\n",
            "success: 0.48005882352941176, epsilon: 0.4\n",
            "success: 0.4808695652173913, epsilon: 0.4\n",
            "success: 0.4819428571428571, epsilon: 0.4\n",
            "success: 0.48259154929577464, epsilon: 0.4\n",
            "success: 0.4836111111111111, epsilon: 0.4\n",
            "success: 0.484, epsilon: 0.4\n",
            "success: 0.4842972972972973, epsilon: 0.4\n",
            "success: 0.4852, epsilon: 0.4\n",
            "success: 0.48589473684210527, epsilon: 0.4\n",
            "success: 0.4864155844155844, epsilon: 0.4\n",
            "success: 0.48730769230769233, epsilon: 0.4\n",
            "success: 0.4878227848101266, epsilon: 0.4\n",
            "success: 0.4882, epsilon: 0.4\n",
            "success: 0.48871604938271607, epsilon: 0.4\n",
            "success: 0.4891219512195122, epsilon: 0.4\n",
            "success: 0.48978313253012046, epsilon: 0.4\n",
            "success: 0.490452380952381, epsilon: 0.4\n",
            "success: 0.4908470588235294, epsilon: 0.4\n",
            "success: 0.49174418604651166, epsilon: 0.4\n",
            "success: 0.4923448275862069, epsilon: 0.4\n",
            "success: 0.4929318181818182, epsilon: 0.4\n",
            "success: 0.4932359550561798, epsilon: 0.4\n",
            "success: 0.49404444444444445, epsilon: 0.4\n",
            "success: 0.4947032967032967, epsilon: 0.4\n",
            "success: 0.49578260869565216, epsilon: 0.4\n",
            "success: 0.4963010752688172, epsilon: 0.4\n",
            "success: 0.4970212765957447, epsilon: 0.4\n",
            "success: 0.49732631578947367, epsilon: 0.4\n",
            "success: 0.4975833333333333, epsilon: 0.4\n",
            "success: 0.49816494845360826, epsilon: 0.4\n",
            "success: 0.49857142857142855, epsilon: 0.4\n",
            "success: 0.49892929292929294, epsilon: 0.4\n",
            "success: 0.4999, epsilon: 0.4\n",
            "success: 0.5005940594059406, epsilon: 0.4\n",
            "success: 0.5009803921568627, epsilon: 0.4\n",
            "success: 0.5014757281553398, epsilon: 0.4\n",
            "success: 0.5020192307692307, epsilon: 0.4\n",
            "success: 0.5024190476190477, epsilon: 0.4\n",
            "success: 0.5025094339622641, epsilon: 0.4\n",
            "success: 0.5028598130841121, epsilon: 0.4\n",
            "success: 0.5033518518518518, epsilon: 0.4\n",
            "success: 0.5035596330275229, epsilon: 0.4\n",
            "success: 0.5036363636363637, epsilon: 0.4\n",
            "success: 0.5038918918918919, epsilon: 0.4\n",
            "success: 0.5043035714285714, epsilon: 0.4\n",
            "success: 0.5047079646017699, epsilon: 0.4\n",
            "success: 0.505421052631579, epsilon: 0.4\n",
            "success: 0.5056869565217391, epsilon: 0.4\n",
            "success: 0.506448275862069, epsilon: 0.4\n",
            "success: 0.5069230769230769, epsilon: 0.4\n",
            "success: 0.5068474576271187, epsilon: 0.4\n",
            "success: 0.5072773109243698, epsilon: 0.4\n",
            "success: 0.5077333333333334, epsilon: 0.4\n",
            "success: 0.5078181818181818, epsilon: 0.4\n",
            "success: 0.5082131147540984, epsilon: 0.4\n",
            "success: 0.5083739837398374, epsilon: 0.4\n",
            "success: 0.5085483870967742, epsilon: 0.4\n",
            "success: 0.508496, epsilon: 0.4\n",
            "success: 0.5086349206349207, epsilon: 0.4\n",
            "success: 0.509007874015748, epsilon: 0.4\n",
            "success: 0.509390625, epsilon: 0.4\n",
            "success: 0.509953488372093, epsilon: 0.4\n",
            "success: 0.5100307692307692, epsilon: 0.4\n",
            "success: 0.5102748091603053, epsilon: 0.4\n",
            "success: 0.5102727272727273, epsilon: 0.4\n",
            "success: 0.5105864661654136, epsilon: 0.4\n",
            "success: 0.5108507462686567, epsilon: 0.4\n",
            "success: 0.5111259259259259, epsilon: 0.4\n",
            "success: 0.5111323529411764, epsilon: 0.4\n",
            "success: 0.5114306569343066, epsilon: 0.4\n",
            "success: 0.5117826086956522, epsilon: 0.4\n",
            "success: 0.5117122302158273, epsilon: 0.4\n",
            "success: 0.5116714285714286, epsilon: 0.4\n",
            "success: 0.5120992907801418, epsilon: 0.4\n",
            "success: 0.5124647887323943, epsilon: 0.4\n",
            "success: 0.5126153846153846, epsilon: 0.4\n",
            "success: 0.5127222222222222, epsilon: 0.4\n",
            "success: 0.5132, epsilon: 0.4\n",
            "success: 0.5130410958904109, epsilon: 0.4\n",
            "success: 0.5131020408163265, epsilon: 0.4\n",
            "success: 0.5132432432432432, epsilon: 0.4\n",
            "success: 0.5133557046979865, epsilon: 0.4\n",
            "success: 0.5136266666666667, epsilon: 0.4\n",
            "success: 0.5137086092715232, epsilon: 0.4\n",
            "success: 0.5140394736842105, epsilon: 0.4\n",
            "success: 0.5141960784313725, epsilon: 0.4\n",
            "success: 0.5144935064935064, epsilon: 0.4\n",
            "success: 0.5144129032258065, epsilon: 0.4\n",
            "success: 0.5145897435897436, epsilon: 0.4\n",
            "success: 0.5148662420382165, epsilon: 0.4\n",
            "success: 0.5151645569620253, epsilon: 0.4\n",
            "success: 0.5154213836477988, epsilon: 0.4\n",
            "success: 0.5157, epsilon: 0.4\n",
            "success: 0.5158509316770187, epsilon: 0.4\n",
            "success: 0.5159506172839506, epsilon: 0.4\n",
            "success: 0.516282208588957, epsilon: 0.4\n",
            "success: 0.5163170731707317, epsilon: 0.4\n",
            "success: 0.5164363636363636, epsilon: 0.4\n",
            "success: 0.516722891566265, epsilon: 0.4\n",
            "success: 0.5168862275449102, epsilon: 0.4\n",
            "success: 0.5170476190476191, epsilon: 0.4\n",
            "success: 0.5168165680473373, epsilon: 0.4\n",
            "success: 0.5169294117647059, epsilon: 0.4\n",
            "success: 0.5169941520467837, epsilon: 0.4\n",
            "success: 0.5170697674418605, epsilon: 0.4\n",
            "success: 0.5171445086705202, epsilon: 0.4\n",
            "success: 0.5172528735632184, epsilon: 0.4\n",
            "success: 0.5172457142857143, epsilon: 0.4\n",
            "success: 0.517159090909091, epsilon: 0.4\n",
            "success: 0.5174802259887006, epsilon: 0.4\n",
            "success: 0.5176629213483146, epsilon: 0.4\n",
            "success: 0.5178100558659218, epsilon: 0.4\n",
            "success: 0.5177111111111111, epsilon: 0.4\n",
            "success: 0.5177900552486188, epsilon: 0.4\n",
            "success: 0.5179120879120879, epsilon: 0.4\n",
            "success: 0.5180327868852459, epsilon: 0.4\n",
            "success: 0.518358695652174, epsilon: 0.4\n",
            "success: 0.5184540540540541, epsilon: 0.4\n",
            "success: 0.5185483870967742, epsilon: 0.4\n",
            "success: 0.5184064171122995, epsilon: 0.4\n",
            "success: 0.5184893617021277, epsilon: 0.4\n",
            "success: 0.5186666666666667, epsilon: 0.4\n",
            "success: 0.5188421052631579, epsilon: 0.4\n",
            "success: 0.518910994764398, epsilon: 0.4\n",
            "success: 0.5190208333333334, epsilon: 0.4\n",
            "success: 0.5190259067357513, epsilon: 0.4\n",
            "success: 0.519, epsilon: 0.4\n",
            "success: 0.5189333333333334, epsilon: 0.4\n",
            "success: 0.5190816326530612, epsilon: 0.4\n",
            "success: 0.5192791878172589, epsilon: 0.4\n",
            "success: 0.5194848484848484, epsilon: 0.4\n",
            "success: 0.5194170854271357, epsilon: 0.4\n",
            "success: 0.5195651956519565, epsilon: 0.4\n"
          ]
        }
      ],
      "source": [
        "Q = np.zeros([env.observation_space.n, env.action_space.n])\n",
        "n_s_a = np.zeros([env.observation_space.n, env.action_space.n])\n",
        "num_episodes = 100000\n",
        "epsilon = 0.4\n",
        "stats = 0.0\n",
        "\n",
        "for episode in range(num_episodes):\n",
        "    state, info = env.reset()\n",
        "    terminated = False\n",
        "    truncated = False\n",
        "    results_list = []\n",
        "    result_sum = 0.0\n",
        "    while not (terminated or truncated):\n",
        "        if np.random.rand() > epsilon:\n",
        "            action = np.argmax(Q[state, :])\n",
        "        else:\n",
        "            action = env.action_space.sample()\n",
        "        new_state, reward, terminated, truncated, _ = env.step(action)\n",
        "        results_list.append((state, action))\n",
        "        result_sum += reward\n",
        "        state = new_state\n",
        "\n",
        "    for (state, action) in results_list:\n",
        "        n_s_a[state, action] += 1.0\n",
        "        alpha = 1.0 / n_s_a[state, action]\n",
        "        Q[state, action] += alpha * (result_sum - Q[state, action])\n",
        "\n",
        "    stats += result_sum\n",
        "    if episode % 500 == 0 and episode is not 0:\n",
        "        print(f\"success: {stats/episode}, epsilon: {epsilon}\")\n",
        "\n",
        "print(f\"success: {stats/episode}, epsilon: {epsilon}\")\n",
        "\n",
        "env.close()"
      ]
    },
    {
      "cell_type": "code",
      "execution_count": null,
      "metadata": {
        "id": "gQrKOBuxDbKB"
      },
      "outputs": [],
      "source": [
        "# lets just sample the maximum action from Q to show the optimal policy\n",
        "def pi_star_from_Q(Q):\n",
        "    terminated = False\n",
        "    truncated = False\n",
        "    pi_star = np.zeros([env.observation_space.n, env.action_space.n])\n",
        "    state, info = env.reset() # start in top-left, = 0\n",
        "    while not (terminated or truncated):\n",
        "        action = np.argmax(Q[state, :])\n",
        "        pi_star[state,action] = 1\n",
        "        state, reward, terminated, truncated, _ = env.step(action)\n",
        "    return pi_star"
      ]
    },
    {
      "cell_type": "code",
      "execution_count": null,
      "metadata": {
        "colab": {
          "base_uri": "https://localhost:8080/",
          "height": 465
        },
        "id": "WLT2lHJrIZbW",
        "outputId": "093de593-ea23-4054-b341-18a72230e710"
      },
      "outputs": [
        {
          "data": {
            "image/png": "[encoded data removed]",
            "text/plain": [
              "<Figure size 525x525 with 1 Axes>"
            ]
          },
          "metadata": {
            "needs_background": "light"
          },
          "output_type": "display_data"
        }
      ],
      "source": [
        "plot(np.zeros_like(Q[:,0]), pi_star_from_Q(Q))"
      ]
    },
    {
      "cell_type": "code",
      "execution_count": null,
      "metadata": {
        "colab": {
          "base_uri": "https://localhost:8080/"
        },
        "id": "ec7Xl7p1JBAK",
        "outputId": "ab548ed3-d5c8-407c-cdda-ad6c5fca398c"
      },
      "outputs": [
        {
          "data": {
            "text/plain": [
              "array([[0.17274819, 0.51755927, 0.40132226, 0.42316572],\n",
              "       [0.17792422, 0.        , 0.56689325, 0.41541111],\n",
              "       [0.39851485, 0.6182541 , 0.48088531, 0.53076269],\n",
              "       [0.55873758, 0.        , 0.44646098, 0.44594595],\n",
              "       [0.2756926 , 0.60405281, 0.        , 0.48259912],\n",
              "       [0.        , 0.        , 0.        , 0.        ],\n",
              "       [0.        , 0.79745004, 0.        , 0.59353202],\n",
              "       [0.        , 0.        , 0.        , 0.        ],\n",
              "       [0.4112478 , 0.        , 0.70773892, 0.50395439],\n",
              "       [0.5763133 , 0.82194713, 0.80038236, 0.        ],\n",
              "       [0.70238095, 0.956698  , 0.        , 0.60544554],\n",
              "       [0.        , 0.        , 0.        , 0.        ],\n",
              "       [0.        , 0.        , 0.        , 0.        ],\n",
              "       [0.        , 0.82538544, 0.95813428, 0.7219214 ],\n",
              "       [0.81713675, 0.95807495, 1.        , 0.80070547],\n",
              "       [0.        , 0.        , 0.        , 0.        ]])"
            ]
          },
          "execution_count": 15,
          "metadata": {},
          "output_type": "execute_result"
        }
      ],
      "source": [
        "Q"
      ]
    },
    {
      "cell_type": "markdown",
      "metadata": {
        "id": "g4I1O_kvYGoe"
      },
      "source": [
        "**Now lets examine the exploration vs exploitation problem in a harder setting**"
      ]
    },
    {
      "cell_type": "code",
      "execution_count": null,
      "metadata": {
        "colab": {
          "base_uri": "https://localhost:8080/"
        },
        "id": "XfEdhPsUYTXn",
        "outputId": "3c5da501-c15f-4f32-d9b3-0ab62b40d3a0"
      },
      "outputs": [
        {
          "data": {
            "text/plain": [
              "[742]"
            ]
          },
          "execution_count": 17,
          "metadata": {},
          "output_type": "execute_result"
        }
      ],
      "source": [
        "# import the frozen lake gymnasium environment\n",
        "name = 'FrozenLake8x8-v1'\n",
        "env = gym.make(name, is_slippery=False) # warning: setting slippery=True results in very complex environment dynamics where the optimal solution does not make sense to humans!\n",
        "\n",
        "# Set up environment with proper seeding\n",
        "observation, info = env.reset(seed=742)\n",
        "env.action_space.seed(742)\n",
        "\n",
        "# Add nS and nA attributes for compatibility with dynamic programming algorithms\n",
        "env.nS = env.observation_space.n\n",
        "env.nA = env.action_space.n"
      ]
    },
    {
      "cell_type": "markdown",
      "metadata": {
        "id": "TlKc8Y4rYfXc"
      },
      "source": [
        "**Greedy at the limit of infinite exploration**\n",
        "\n",
        "Note this doesn't always converge to a very good policy for the 8x8 board! Try a few times and it should eventually discover an optimal policy."
      ]
    },
    {
      "cell_type": "code",
      "execution_count": null,
      "metadata": {
        "colab": {
          "base_uri": "https://localhost:8080/"
        },
        "id": "ozpSr_Dw_434",
        "outputId": "f93159d5-1488-4eb6-a83a-b8cbf87ebb84"
      },
      "outputs": [
        {
          "name": "stdout",
          "output_type": "stream",
          "text": [
            "success: 0.6876, epsilon: 0.0999900009999\n",
            "success: 0.78185, epsilon: 0.04999750012499375\n",
            "success: 0.8399333333333333, epsilon: 0.033332222259258026\n",
            "success: 0.876525, epsilon: 0.02499937501562461\n",
            "success: 0.899, epsilon: 0.01999960000799984\n",
            "success: 0.9145, epsilon: 0.01666638889351844\n",
            "success: 0.9256, epsilon: 0.014285510206997042\n",
            "success: 0.934175, epsilon: 0.0124998437519531\n",
            "success: 0.9408888888888889, epsilon: 0.011110987655692715\n",
            "success: 0.946409464094641, epsilon: 0.01\n"
          ]
        }
      ],
      "source": [
        "Q = np.zeros([env.observation_space.n, env.action_space.n])\n",
        "n_s_a = np.zeros([env.observation_space.n, env.action_space.n])\n",
        "stats = 0.0\n",
        "num_episodes = 100000\n",
        "\n",
        "for episode in range(num_episodes):\n",
        "    state, info = env.reset()\n",
        "    rAll = 0\n",
        "    terminated = False\n",
        "    truncated = False\n",
        "    results_list = []\n",
        "    result_sum = 0.0\n",
        "    while not (terminated or truncated):\n",
        "        epsilon = min(1.0, 1000.0/(episode+1))\n",
        "        if np.random.rand() > epsilon:\n",
        "            action = np.argmax(Q[state, :])\n",
        "        else:\n",
        "            action = env.action_space.sample()\n",
        "        new_state, reward, terminated, truncated, _ = env.step(action)\n",
        "        results_list.append((state, action))\n",
        "        result_sum += reward\n",
        "        state = new_state\n",
        "\n",
        "    for (state, action) in results_list:\n",
        "        n_s_a[state, action] += 1.0\n",
        "        alpha = 1.0 / n_s_a[state, action]\n",
        "        Q[state, action] += alpha * (result_sum - Q[state, action])\n",
        "\n",
        "    stats += result_sum\n",
        "    if episode % 5000 == 0 and episode is not 0:\n",
        "        print(f\"success: {stats/episode}, epsilon: {epsilon}\")\n",
        "\n",
        "print(f\"success: {stats/episode}, epsilon: {epsilon}\")\n",
        "\n",
        "env.close()"
      ]
    },
    {
      "cell_type": "code",
      "execution_count": null,
      "metadata": {
        "colab": {
          "base_uri": "https://localhost:8080/",
          "height": 465
        },
        "id": "0bpYr0Z-YuDB",
        "outputId": "6a1d95cf-ccc6-4478-8cb4-0908f80e7381"
      },
      "outputs": [
        {
          "data": {
            "image/png": "[encoded data removed]",
            "text/plain": [
              "<Figure size 525x525 with 1 Axes>"
            ]
          },
          "metadata": {
            "needs_background": "light"
          },
          "output_type": "display_data"
        }
      ],
      "source": [
        "plot(np.zeros_like(Q[:,0]), pi_star_from_Q(Q))"
      ]
    },
    {
      "cell_type": "markdown",
      "metadata": {
        "id": "-xnUyVjN1Ixf"
      },
      "source": [
        "That's better, even in this larger game, it's still slow to converge and doesn't have good success rates though."
      ]
    }
  ],
  "metadata": {
    "colab": {
      "include_colab_link": true,
      "name": "monte-carlo-methods.ipynb",
      "provenance": []
    },
    "kernelspec": {
      "display_name": "Python 3",
      "name": "python3"
    }
  },
  "nbformat": 4,
  "nbformat_minor": 0
}
