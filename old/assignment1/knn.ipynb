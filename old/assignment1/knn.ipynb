{
  "nbformat": 4,
  "nbformat_minor": 0,
  "metadata": {
    "colab": {
      "name": "knn.ipynb",
      "version": "0.3.2",
      "provenance": []
    },
    "kernelspec": {
      "display_name": "Python 3",
      "language": "python",
      "name": "python3"
    }
  },
  "cells": [
    {
      "metadata": {
        "id": "UYKEJLV_MsZ0",
        "colab_type": "text"
      },
      "cell_type": "markdown",
      "source": [
        "# k-Nearest Neighbor (kNN) exercise\n",
        "\n",
        "\n",
        "The kNN classifier consists of two stages:\n",
        "\n",
        "- During training, the classifier takes the training data and simply remembers it\n",
        "- During testing, kNN classifies every test image by comparing to all training images and transfering the labels of the k most similar training examples\n",
        "- The value of k is cross-validated\n",
        "\n",
        "In this exercise you will implement these steps and understand the basic Image Classification pipeline, cross-validation, and gain proficiency in writing efficient, vectorized code."
      ]
    },
    {
      "metadata": {
        "id": "z1vN-AUMM7KL",
        "colab_type": "code",
        "colab": {
          "base_uri": "https://localhost:8080/",
          "height": 119
        },
        "outputId": "df3a0108-63c9-4d32-b5df-abcb234b629b"
      },
      "cell_type": "code",
      "source": [
        "!git clone https://github.com/xhxuciedu/CS175.git"
      ],
      "execution_count": 6,
      "outputs": [
        {
          "output_type": "stream",
          "text": [
            "Cloning into 'CS175'...\n",
            "remote: Enumerating objects: 31, done.\u001b[K\n",
            "remote: Counting objects: 100% (31/31), done.\u001b[K\n",
            "remote: Compressing objects: 100% (26/26), done.\u001b[K\n",
            "remote: Total 31 (delta 1), reused 28 (delta 1), pack-reused 0\u001b[K\n",
            "Unpacking objects: 100% (31/31), done.\n"
          ],
          "name": "stdout"
        }
      ]
    },
    {
      "metadata": {
        "id": "aAFL_iNROkmD",
        "colab_type": "code",
        "colab": {
          "base_uri": "https://localhost:8080/",
          "height": 34
        },
        "outputId": "7cf2808b-337d-432f-afcd-6a83648005a3"
      },
      "cell_type": "code",
      "source": [
        "%cd CS175/assignment1/"
      ],
      "execution_count": 8,
      "outputs": [
        {
          "output_type": "stream",
          "text": [
            "/content/CS175/assignment1\n"
          ],
          "name": "stdout"
        }
      ]
    },
    {
      "metadata": {
        "id": "Oy4MDzxfMsZ3",
        "colab_type": "code",
        "colab": {}
      },
      "cell_type": "code",
      "source": [
        "# Run some setup code for this notebook.\n",
        "\n",
        "import random\n",
        "import numpy as np\n",
        "from cs175.data_utils import load_CIFAR10\n",
        "import matplotlib.pyplot as plt\n",
        "\n",
        "from __future__ import print_function\n",
        "\n",
        "# This is a bit of magic to make matplotlib figures appear inline in the notebook\n",
        "# rather than in a new window.\n",
        "%matplotlib inline\n",
        "plt.rcParams['figure.figsize'] = (10.0, 8.0) # set default size of plots\n",
        "plt.rcParams['image.interpolation'] = 'nearest'\n",
        "plt.rcParams['image.cmap'] = 'gray'\n",
        "\n",
        "# Some more magic so that the notebook will reload external python modules;\n",
        "# see http://stackoverflow.com/questions/1907993/autoreload-of-modules-in-ipython\n",
        "%load_ext autoreload\n",
        "%autoreload 2"
      ],
      "execution_count": 0,
      "outputs": []
    },
    {
      "metadata": {
        "id": "gIuGnVWZMxFB",
        "colab_type": "code",
        "colab": {
          "base_uri": "https://localhost:8080/",
          "height": 391
        },
        "outputId": "0f0782e9-4001-40d1-80ee-3a1a18269e62"
      },
      "cell_type": "code",
      "source": [
        "%cd cs175/datasets\n",
        "!source get_datasets.sh"
      ],
      "execution_count": 14,
      "outputs": [
        {
          "output_type": "stream",
          "text": [
            "[Errno 2] No such file or directory: 'cs175/datasets'\n",
            "/content/CS175/assignment1/cs175/datasets\n",
            "--2019-01-22 20:26:33--  http://www.cs.toronto.edu/~kriz/cifar-10-python.tar.gz\n",
            "Resolving www.cs.toronto.edu (www.cs.toronto.edu)... 128.100.3.30\n",
            "Connecting to www.cs.toronto.edu (www.cs.toronto.edu)|128.100.3.30|:80... connected.\n",
            "HTTP request sent, awaiting response... 200 OK\n",
            "Length: 170498071 (163M) [application/x-gzip]\n",
            "Saving to: ‘cifar-10-python.tar.gz’\n",
            "\n",
            "cifar-10-python.tar 100%[===================>] 162.60M  3.76MB/s    in 44s     \n",
            "\n",
            "2019-01-22 20:27:17 (3.72 MB/s) - ‘cifar-10-python.tar.gz’ saved [170498071/170498071]\n",
            "\n",
            "cifar-10-batches-py/\n",
            "cifar-10-batches-py/data_batch_4\n",
            "cifar-10-batches-py/readme.html\n",
            "cifar-10-batches-py/test_batch\n",
            "cifar-10-batches-py/data_batch_3\n",
            "cifar-10-batches-py/batches.meta\n",
            "cifar-10-batches-py/data_batch_2\n",
            "cifar-10-batches-py/data_batch_5\n",
            "cifar-10-batches-py/data_batch_1\n"
          ],
          "name": "stdout"
        }
      ]
    },
    {
      "metadata": {
        "id": "75fzI-DqPwIe",
        "colab_type": "code",
        "colab": {
          "base_uri": "https://localhost:8080/",
          "height": 34
        },
        "outputId": "92d11018-85ed-453d-86d7-3aa9411335a8"
      },
      "cell_type": "code",
      "source": [
        "%cd /content/CS175/assignment1/"
      ],
      "execution_count": 15,
      "outputs": [
        {
          "output_type": "stream",
          "text": [
            "/content/CS175/assignment1\n"
          ],
          "name": "stdout"
        }
      ]
    },
    {
      "metadata": {
        "id": "58d7DIBHMsZ6",
        "colab_type": "code",
        "colab": {
          "base_uri": "https://localhost:8080/",
          "height": 85
        },
        "outputId": "317febbc-a6d4-4f7a-a563-6b97a571ba54"
      },
      "cell_type": "code",
      "source": [
        "# Load the raw CIFAR-10 data.\n",
        "cifar10_dir = 'cs175/datasets/cifar-10-batches-py'\n",
        "X_train, y_train, X_test, y_test = load_CIFAR10(cifar10_dir)\n",
        "\n",
        "# As a sanity check, we print out the size of the training and test data.\n",
        "print('Training data shape: ', X_train.shape)\n",
        "print('Training labels shape: ', y_train.shape)\n",
        "print('Test data shape: ', X_test.shape)\n",
        "print('Test labels shape: ', y_test.shape)"
      ],
      "execution_count": 16,
      "outputs": [
        {
          "output_type": "stream",
          "text": [
            "Training data shape:  (50000, 32, 32, 3)\n",
            "Training labels shape:  (50000,)\n",
            "Test data shape:  (10000, 32, 32, 3)\n",
            "Test labels shape:  (10000,)\n"
          ],
          "name": "stdout"
        }
      ]
    },
    {
      "metadata": {
        "id": "2lLiAH9FMsZ9",
        "colab_type": "code",
        "colab": {}
      },
      "cell_type": "code",
      "source": [
        "# Visualize some examples from the dataset.\n",
        "# We show a few examples of training images from each class.\n",
        "classes = ['plane', 'car', 'bird', 'cat', 'deer', 'dog', 'frog', 'horse', 'ship', 'truck']\n",
        "num_classes = len(classes)\n",
        "samples_per_class = 7\n",
        "for y, cls in enumerate(classes):\n",
        "    idxs = np.flatnonzero(y_train == y)\n",
        "    idxs = np.random.choice(idxs, samples_per_class, replace=False)\n",
        "    for i, idx in enumerate(idxs):\n",
        "        plt_idx = i * num_classes + y + 1\n",
        "        plt.subplot(samples_per_class, num_classes, plt_idx)\n",
        "        plt.imshow(X_train[idx].astype('uint8'))\n",
        "        plt.axis('off')\n",
        "        if i == 0:\n",
        "            plt.title(cls)\n",
        "plt.show()"
      ],
      "execution_count": 0,
      "outputs": []
    },
    {
      "metadata": {
        "id": "Hb41_DGfMsaA",
        "colab_type": "code",
        "colab": {}
      },
      "cell_type": "code",
      "source": [
        "# Subsample the data for more efficient code execution in this exercise\n",
        "num_training = 5000\n",
        "mask = list(range(num_training))\n",
        "X_train = X_train[mask]\n",
        "y_train = y_train[mask]\n",
        "\n",
        "num_test = 500\n",
        "mask = list(range(num_test))\n",
        "X_test = X_test[mask]\n",
        "y_test = y_test[mask]"
      ],
      "execution_count": 0,
      "outputs": []
    },
    {
      "metadata": {
        "id": "ydD04iw6MsaC",
        "colab_type": "code",
        "colab": {}
      },
      "cell_type": "code",
      "source": [
        "# Reshape the image data into rows\n",
        "X_train = np.reshape(X_train, (X_train.shape[0], -1))\n",
        "X_test = np.reshape(X_test, (X_test.shape[0], -1))\n",
        "print(X_train.shape, X_test.shape)"
      ],
      "execution_count": 0,
      "outputs": []
    },
    {
      "metadata": {
        "id": "Gl0jPdQHMsaE",
        "colab_type": "code",
        "colab": {}
      },
      "cell_type": "code",
      "source": [
        "from cs175.classifiers import KNearestNeighbor\n",
        "\n",
        "# Create a kNN classifier instance. \n",
        "# Remember that training a kNN classifier is a noop: \n",
        "# the Classifier simply remembers the data and does no further processing \n",
        "classifier = KNearestNeighbor()\n",
        "classifier.train(X_train, y_train)"
      ],
      "execution_count": 0,
      "outputs": []
    },
    {
      "metadata": {
        "id": "2SMi8xy0MsaI",
        "colab_type": "text"
      },
      "cell_type": "markdown",
      "source": [
        "We would now like to classify the test data with the kNN classifier. Recall that we can break down this process into two steps: \n",
        "\n",
        "1. First we must compute the distances between all test examples and all train examples. \n",
        "2. Given these distances, for each test example we find the k nearest examples and have them vote for the label\n",
        "\n",
        "Lets begin with computing the distance matrix between all training and test examples. For example, if there are **Ntr** training examples and **Nte** test examples, this stage should result in a **Nte x Ntr** matrix where each element (i,j) is the distance between the i-th test and j-th train example.\n",
        "\n",
        "First, open `cs175/classifiers/k_nearest_neighbor.py` and implement the function `compute_distances_two_loops` that uses a (very inefficient) double loop over all pairs of (test, train) examples and computes the distance matrix one element at a time."
      ]
    },
    {
      "metadata": {
        "id": "ZY-kcPMKMsaI",
        "colab_type": "code",
        "colab": {}
      },
      "cell_type": "code",
      "source": [
        "# Open cs175/classifiers/k_nearest_neighbor.py and implement\n",
        "# compute_distances_two_loops.\n",
        "\n",
        "# Test your implementation:\n",
        "dists = classifier.compute_distances_two_loops(X_test)\n",
        "print(dists.shape)"
      ],
      "execution_count": 0,
      "outputs": []
    },
    {
      "metadata": {
        "id": "08BpJn7tMsaL",
        "colab_type": "code",
        "colab": {}
      },
      "cell_type": "code",
      "source": [
        "# We can visualize the distance matrix: each row is a single test example and\n",
        "# its distances to training examples\n",
        "plt.imshow(dists, interpolation='none')\n",
        "plt.show()"
      ],
      "execution_count": 0,
      "outputs": []
    },
    {
      "metadata": {
        "id": "EU7CCiQvMsaO",
        "colab_type": "text"
      },
      "cell_type": "markdown",
      "source": [
        "**Inline Question #1:** Notice the structured patterns in the distance matrix, where some rows or columns are visible brighter. (Note that with the default color scheme black indicates low distances while white indicates high distances.)\n",
        "\n",
        "- What in the data is the cause behind the distinctly bright rows?\n",
        "- What causes the columns?"
      ]
    },
    {
      "metadata": {
        "id": "5pdb5DYWMsaQ",
        "colab_type": "text"
      },
      "cell_type": "markdown",
      "source": [
        "**Your Answer**: *fill this in.*\n",
        "\n"
      ]
    },
    {
      "metadata": {
        "id": "NMvpIgsWMsaQ",
        "colab_type": "code",
        "colab": {}
      },
      "cell_type": "code",
      "source": [
        "# Now implement the function predict_labels and run the code below:\n",
        "# We use k = 1 (which is Nearest Neighbor).\n",
        "y_test_pred = classifier.predict_labels(dists, k=1)\n",
        "\n",
        "# Compute and print the fraction of correctly predicted examples\n",
        "num_correct = np.sum(y_test_pred == y_test)\n",
        "accuracy = float(num_correct) / num_test\n",
        "print('Got %d / %d correct => accuracy: %f' % (num_correct, num_test, accuracy))"
      ],
      "execution_count": 0,
      "outputs": []
    },
    {
      "metadata": {
        "id": "rW7JimmhMsaT",
        "colab_type": "text"
      },
      "cell_type": "markdown",
      "source": [
        "You should expect to see approximately `27%` accuracy. Now lets try out a larger `k`, say `k = 5`:"
      ]
    },
    {
      "metadata": {
        "id": "QZfZBbzVMsaU",
        "colab_type": "code",
        "colab": {}
      },
      "cell_type": "code",
      "source": [
        "y_test_pred = classifier.predict_labels(dists, k=5)\n",
        "num_correct = np.sum(y_test_pred == y_test)\n",
        "accuracy = float(num_correct) / num_test\n",
        "print('Got %d / %d correct => accuracy: %f' % (num_correct, num_test, accuracy))"
      ],
      "execution_count": 0,
      "outputs": []
    },
    {
      "metadata": {
        "id": "-vBL90zAMsaY",
        "colab_type": "text"
      },
      "cell_type": "markdown",
      "source": [
        "You should expect to see a slightly better performance than with `k = 1`."
      ]
    },
    {
      "metadata": {
        "id": "0zYVxDx3Msaa",
        "colab_type": "code",
        "colab": {}
      },
      "cell_type": "code",
      "source": [
        "# Now lets speed up distance matrix computation by using partial vectorization\n",
        "# with one loop. Implement the function compute_distances_one_loop and run the\n",
        "# code below:\n",
        "dists_one = classifier.compute_distances_one_loop(X_test)\n",
        "\n",
        "# To ensure that our vectorized implementation is correct, we make sure that it\n",
        "# agrees with the naive implementation. There are many ways to decide whether\n",
        "# two matrices are similar; one of the simplest is the Frobenius norm. In case\n",
        "# you haven't seen it before, the Frobenius norm of two matrices is the square\n",
        "# root of the squared sum of differences of all elements; in other words, reshape\n",
        "# the matrices into vectors and compute the Euclidean distance between them.\n",
        "difference = np.linalg.norm(dists - dists_one, ord='fro')\n",
        "print('Difference was: %f' % (difference, ))\n",
        "if difference < 0.001:\n",
        "    print('Good! The distance matrices are the same')\n",
        "else:\n",
        "    print('Uh-oh! The distance matrices are different')"
      ],
      "execution_count": 0,
      "outputs": []
    },
    {
      "metadata": {
        "id": "qRWDmT2hMsac",
        "colab_type": "code",
        "colab": {}
      },
      "cell_type": "code",
      "source": [
        "# Now implement the fully vectorized version inside compute_distances_no_loops\n",
        "# and run the code\n",
        "dists_two = classifier.compute_distances_no_loops(X_test)\n",
        "\n",
        "# check that the distance matrix agrees with the one we computed before:\n",
        "difference = np.linalg.norm(dists - dists_two, ord='fro')\n",
        "print('Difference was: %f' % (difference, ))\n",
        "if difference < 0.001:\n",
        "    print('Good! The distance matrices are the same')\n",
        "else:\n",
        "    print('Uh-oh! The distance matrices are different')"
      ],
      "execution_count": 0,
      "outputs": []
    },
    {
      "metadata": {
        "id": "2WfRJJRoMsae",
        "colab_type": "code",
        "colab": {}
      },
      "cell_type": "code",
      "source": [
        "# Let's compare how fast the implementations are\n",
        "def time_function(f, *args):\n",
        "    \"\"\"\n",
        "    Call a function f with args and return the time (in seconds) that it took to execute.\n",
        "    \"\"\"\n",
        "    import time\n",
        "    tic = time.time()\n",
        "    f(*args)\n",
        "    toc = time.time()\n",
        "    return toc - tic\n",
        "\n",
        "two_loop_time = time_function(classifier.compute_distances_two_loops, X_test)\n",
        "print('Two loop version took %f seconds' % two_loop_time)\n",
        "\n",
        "one_loop_time = time_function(classifier.compute_distances_one_loop, X_test)\n",
        "print('One loop version took %f seconds' % one_loop_time)\n",
        "\n",
        "no_loop_time = time_function(classifier.compute_distances_no_loops, X_test)\n",
        "print('No loop version took %f seconds' % no_loop_time)\n",
        "\n",
        "# you should see significantly faster performance with the fully vectorized implementation"
      ],
      "execution_count": 0,
      "outputs": []
    },
    {
      "metadata": {
        "id": "VqnDi8DhMsah",
        "colab_type": "text"
      },
      "cell_type": "markdown",
      "source": [
        "### Cross-validation\n",
        "\n",
        "We have implemented the k-Nearest Neighbor classifier but we set the value k = 5 arbitrarily. We will now determine the best value of this hyperparameter with cross-validation."
      ]
    },
    {
      "metadata": {
        "id": "05U4xqlVMsai",
        "colab_type": "code",
        "colab": {}
      },
      "cell_type": "code",
      "source": [
        "num_folds = 5\n",
        "k_choices = [1, 3, 5, 8, 10, 12, 15, 20, 50, 100]\n",
        "\n",
        "X_train_folds = []\n",
        "y_train_folds = []\n",
        "################################################################################\n",
        "# TODO:                                                                        #\n",
        "# Split up the training data into folds. After splitting, X_train_folds and    #\n",
        "# y_train_folds should each be lists of length num_folds, where                #\n",
        "# y_train_folds[i] is the label vector for the points in X_train_folds[i].     #\n",
        "# Hint: Look up the numpy array_split function.                                #\n",
        "################################################################################\n",
        "pass\n",
        "################################################################################\n",
        "#                                 END OF YOUR CODE                             #\n",
        "################################################################################\n",
        "\n",
        "# A dictionary holding the accuracies for different values of k that we find\n",
        "# when running cross-validation. After running cross-validation,\n",
        "# k_to_accuracies[k] should be a list of length num_folds giving the different\n",
        "# accuracy values that we found when using that value of k.\n",
        "k_to_accuracies = {}\n",
        "\n",
        "\n",
        "################################################################################\n",
        "# TODO:                                                                        #\n",
        "# Perform k-fold cross validation to find the best value of k. For each        #\n",
        "# possible value of k, run the k-nearest-neighbor algorithm num_folds times,   #\n",
        "# where in each case you use all but one of the folds as training data and the #\n",
        "# last fold as a validation set. Store the accuracies for all fold and all     #\n",
        "# values of k in the k_to_accuracies dictionary.                               #\n",
        "################################################################################\n",
        "pass\n",
        "################################################################################\n",
        "#                                 END OF YOUR CODE                             #\n",
        "################################################################################\n",
        "\n",
        "# Print out the computed accuracies\n",
        "for k in sorted(k_to_accuracies):\n",
        "    for accuracy in k_to_accuracies[k]:\n",
        "        print('k = %d, accuracy = %f' % (k, accuracy))"
      ],
      "execution_count": 0,
      "outputs": []
    },
    {
      "metadata": {
        "id": "OVhywxsWMsam",
        "colab_type": "code",
        "colab": {}
      },
      "cell_type": "code",
      "source": [
        "# plot the raw observations\n",
        "for k in k_choices:\n",
        "    accuracies = k_to_accuracies[k]\n",
        "    plt.scatter([k] * len(accuracies), accuracies)\n",
        "\n",
        "# plot the trend line with error bars that correspond to standard deviation\n",
        "accuracies_mean = np.array([np.mean(v) for k,v in sorted(k_to_accuracies.items())])\n",
        "accuracies_std = np.array([np.std(v) for k,v in sorted(k_to_accuracies.items())])\n",
        "plt.errorbar(k_choices, accuracies_mean, yerr=accuracies_std)\n",
        "plt.title('Cross-validation on k')\n",
        "plt.xlabel('k')\n",
        "plt.ylabel('Cross-validation accuracy')\n",
        "plt.show()"
      ],
      "execution_count": 0,
      "outputs": []
    },
    {
      "metadata": {
        "id": "2NscpSF9Msap",
        "colab_type": "code",
        "colab": {}
      },
      "cell_type": "code",
      "source": [
        "# Based on the cross-validation results above, choose the best value for k,   \n",
        "# retrain the classifier using all the training data, and test it on the test\n",
        "# data. You should be able to get above 28% accuracy on the test data.\n",
        "best_k = 1\n",
        "\n",
        "classifier = KNearestNeighbor()\n",
        "classifier.train(X_train, y_train)\n",
        "y_test_pred = classifier.predict(X_test, k=best_k)\n",
        "\n",
        "# Compute and display the accuracy\n",
        "num_correct = np.sum(y_test_pred == y_test)\n",
        "accuracy = float(num_correct) / num_test\n",
        "print('Got %d / %d correct => accuracy: %f' % (num_correct, num_test, accuracy))"
      ],
      "execution_count": 0,
      "outputs": []
    }
  ]
}